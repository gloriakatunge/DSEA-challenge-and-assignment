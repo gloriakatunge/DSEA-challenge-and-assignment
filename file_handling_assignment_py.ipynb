{
  "nbformat": 4,
  "nbformat_minor": 0,
  "metadata": {
    "colab": {
      "provenance": [],
      "authorship_tag": "ABX9TyPLAdPVezPqW9Wo7PUBEvy0",
      "include_colab_link": true
    },
    "kernelspec": {
      "name": "python3",
      "display_name": "Python 3"
    },
    "language_info": {
      "name": "python"
    }
  },
  "cells": [
    {
      "cell_type": "markdown",
      "metadata": {
        "id": "view-in-github",
        "colab_type": "text"
      },
      "source": [
        "<a href=\"https://colab.research.google.com/github/gloriakatunge/DSEA-challenge-and-assignment/blob/master/file_handling_assignment_py.ipynb\" target=\"_parent\"><img src=\"https://colab.research.google.com/assets/colab-badge.svg\" alt=\"Open In Colab\"/></a>"
      ]
    },
    {
      "cell_type": "code",
      "execution_count": 1,
      "metadata": {
        "colab": {
          "base_uri": "https://localhost:8080/"
        },
        "id": "o61tQQYnUGod",
        "outputId": "cd1bbb09-2b15-4065-d990-7a9f70f5f154"
      },
      "outputs": [
        {
          "output_type": "stream",
          "name": "stdout",
          "text": [
            "File contents after creation:\n",
            "Hello, World!\n",
            "This is a mix of strings and numbers: 12345\n",
            "Python file handling.\n",
            "\n",
            "File contents after appending:\n",
            "Hello, World!\n",
            "This is a mix of strings and numbers: 12345\n",
            "Python file handling.\n",
            "Appending a new line.\n",
            "Another line with numbers: 6789\n",
            "End of appended content.\n",
            "\n",
            "File handling operations complete.\n"
          ]
        }
      ],
      "source": [
        "# File Creation\n",
        "try:\n",
        "    # Creating a new text file and writing three lines of text\n",
        "    with open(\"my_file.txt\", \"w\") as file:\n",
        "        file.write(\"Hello, World!\\n\")\n",
        "        file.write(\"This is a mix of strings and numbers: 12345\\n\")\n",
        "        file.write(\"Python file handling.\\n\")\n",
        "\n",
        "    # File Reading and Display\n",
        "    # Reading the contents of the file and displaying them\n",
        "    with open(\"my_file.txt\", \"r\") as file:\n",
        "        print(\"File contents after creation:\")\n",
        "        print(file.read())\n",
        "\n",
        "    # File Appending\n",
        "    # Opening the file in append mode and appending three additional lines\n",
        "    with open(\"my_file.txt\", \"a\") as file:\n",
        "        file.write(\"Appending a new line.\\n\")\n",
        "        file.write(\"Another line with numbers: 6789\\n\")\n",
        "        file.write(\"End of appended content.\\n\")\n",
        "\n",
        "    # Reading the contents of the file again to display the appended content\n",
        "    with open(\"my_file.txt\", \"r\") as file:\n",
        "        print(\"File contents after appending:\")\n",
        "        print(file.read())\n",
        "\n",
        "except FileNotFoundError:\n",
        "    print(\"The file was not found.\")\n",
        "except PermissionError:\n",
        "    print(\"You do not have permission to access this file.\")\n",
        "except Exception as e:\n",
        "    print(f\"An error occurred: {e}\")\n",
        "finally:\n",
        "    print(\"File handling operations complete.\")\n"
      ]
    }
  ]
}