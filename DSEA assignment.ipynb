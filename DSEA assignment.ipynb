{
 "cells": [
  {
   "cell_type": "code",
   "execution_count": null,
   "metadata": {},
   "outputs": [],
   "source": [
    "#Gloria katunge\n",
    "#gloriakatunge133@gmail.com\n",
    "#Kenya\n",
    "\n"
   ]
  },
  {
   "cell_type": "code",
   "execution_count": null,
   "metadata": {},
   "outputs": [],
   "source": []
  },
  {
   "cell_type": "code",
   "execution_count": null,
   "metadata": {},
   "outputs": [],
   "source": [
    "Question 1\n",
    "\n",
    "data science-  is a blend of various tools, algorithms, and\n",
    "machine learning principles with the goal to discover hidden\n",
    "patterns from the raw data.\n",
    "\n",
    "Supervised learning is a type of learning that make predictions while  Unsupervised learning is used for pattern discovery.\n",
    "     .\n",
    "\n"
   ]
  },
  {
   "cell_type": "code",
   "execution_count": null,
   "metadata": {},
   "outputs": [],
   "source": [
    "Question 2\n",
    "\n",
    "Cleaning data from multiple sources to transform it into a format that data analysts or data scientists can work with is a \n",
    "cumbersome process because as the number of data sources increases, the time taken to clean the data increases exponentially due \n",
    "to the number of sources and the volume of data generated.\n",
    "It might take up to 80% of the time for just cleaning data making it a critical part of analysis task."
   ]
  },
  {
   "cell_type": "code",
   "execution_count": null,
   "metadata": {},
   "outputs": [],
   "source": [
    "Question 3\n",
    "\n",
    "Python would be the best option because it has Pandas library that provides easy to use data structures and high-performance data analysis tools.\n",
    "R is more suitable for machine learning than just text analysis.\n",
    "Python performs faster for all types of text analytics."
   ]
  },
  {
   "cell_type": "code",
   "execution_count": null,
   "metadata": {},
   "outputs": [],
   "source": [
    "Question 4\n",
    "\n",
    "Text analytics is the process of extracting meaning out of text. \n",
    "For example, this can be analyzing text written by customers in a customer survey, with the focus on finding common themes and trends.\n",
    "The idea is to be able to examine the customer feedback to inform the business on taking strategic action, in order to improve customer experience.\n"
   ]
  },
  {
   "cell_type": "code",
   "execution_count": null,
   "metadata": {},
   "outputs": [],
   "source": [
    "#CHALLENGE"
   ]
  },
  {
   "cell_type": "code",
   "execution_count": 82,
   "metadata": {},
   "outputs": [],
   "source": [
    "import pandas as pd\n",
    "import matplotlib.pyplot as plt\n",
    "import numpy as np\n",
    "import os,xlrd"
   ]
  },
  {
   "cell_type": "code",
   "execution_count": 7,
   "metadata": {},
   "outputs": [],
   "source": [
    "property_data =pd.read_csv(r\"C:\\\\Users\\\\Gloria\\desktop\\DSEA bootcamp lectures\\property data.csv\")"
   ]
  },
  {
   "cell_type": "code",
   "execution_count": 8,
   "metadata": {},
   "outputs": [
    {
     "data": {
      "text/html": [
       "<div>\n",
       "<style scoped>\n",
       "    .dataframe tbody tr th:only-of-type {\n",
       "        vertical-align: middle;\n",
       "    }\n",
       "\n",
       "    .dataframe tbody tr th {\n",
       "        vertical-align: top;\n",
       "    }\n",
       "\n",
       "    .dataframe thead th {\n",
       "        text-align: right;\n",
       "    }\n",
       "</style>\n",
       "<table border=\"1\" class=\"dataframe\">\n",
       "  <thead>\n",
       "    <tr style=\"text-align: right;\">\n",
       "      <th></th>\n",
       "      <th>PID</th>\n",
       "      <th>ST_NUM</th>\n",
       "      <th>ST_NAME</th>\n",
       "      <th>OWN_OCCUPIED</th>\n",
       "      <th>NUM_BEDROOMS</th>\n",
       "      <th>NUM_BATH</th>\n",
       "      <th>SQ_FT</th>\n",
       "    </tr>\n",
       "  </thead>\n",
       "  <tbody>\n",
       "    <tr>\n",
       "      <th>0</th>\n",
       "      <td>100001000.0</td>\n",
       "      <td>104.0</td>\n",
       "      <td>PUTNAM</td>\n",
       "      <td>Y</td>\n",
       "      <td>3</td>\n",
       "      <td>1</td>\n",
       "      <td>1000</td>\n",
       "    </tr>\n",
       "    <tr>\n",
       "      <th>1</th>\n",
       "      <td>100002000.0</td>\n",
       "      <td>197.0</td>\n",
       "      <td>LEXINGTON</td>\n",
       "      <td>N</td>\n",
       "      <td>3</td>\n",
       "      <td>1.5</td>\n",
       "      <td>--</td>\n",
       "    </tr>\n",
       "    <tr>\n",
       "      <th>2</th>\n",
       "      <td>100003000.0</td>\n",
       "      <td>NaN</td>\n",
       "      <td>LEXINGTON</td>\n",
       "      <td>N</td>\n",
       "      <td>NaN</td>\n",
       "      <td>1</td>\n",
       "      <td>850</td>\n",
       "    </tr>\n",
       "    <tr>\n",
       "      <th>3</th>\n",
       "      <td>100004000.0</td>\n",
       "      <td>201.0</td>\n",
       "      <td>BERKELEY</td>\n",
       "      <td>12</td>\n",
       "      <td>1</td>\n",
       "      <td>NaN</td>\n",
       "      <td>700</td>\n",
       "    </tr>\n",
       "    <tr>\n",
       "      <th>4</th>\n",
       "      <td>NaN</td>\n",
       "      <td>203.0</td>\n",
       "      <td>BERKELEY</td>\n",
       "      <td>Y</td>\n",
       "      <td>3</td>\n",
       "      <td>2</td>\n",
       "      <td>1600</td>\n",
       "    </tr>\n",
       "  </tbody>\n",
       "</table>\n",
       "</div>"
      ],
      "text/plain": [
       "           PID  ST_NUM    ST_NAME OWN_OCCUPIED NUM_BEDROOMS NUM_BATH SQ_FT\n",
       "0  100001000.0   104.0     PUTNAM            Y            3        1  1000\n",
       "1  100002000.0   197.0  LEXINGTON            N            3      1.5    --\n",
       "2  100003000.0     NaN  LEXINGTON            N          NaN        1   850\n",
       "3  100004000.0   201.0   BERKELEY           12            1      NaN   700\n",
       "4          NaN   203.0   BERKELEY            Y            3        2  1600"
      ]
     },
     "execution_count": 8,
     "metadata": {},
     "output_type": "execute_result"
    }
   ],
   "source": [
    "property_data.head()"
   ]
  },
  {
   "cell_type": "code",
   "execution_count": 9,
   "metadata": {},
   "outputs": [
    {
     "data": {
      "text/html": [
       "<div>\n",
       "<style scoped>\n",
       "    .dataframe tbody tr th:only-of-type {\n",
       "        vertical-align: middle;\n",
       "    }\n",
       "\n",
       "    .dataframe tbody tr th {\n",
       "        vertical-align: top;\n",
       "    }\n",
       "\n",
       "    .dataframe thead th {\n",
       "        text-align: right;\n",
       "    }\n",
       "</style>\n",
       "<table border=\"1\" class=\"dataframe\">\n",
       "  <thead>\n",
       "    <tr style=\"text-align: right;\">\n",
       "      <th></th>\n",
       "      <th>PID</th>\n",
       "      <th>ST_NUM</th>\n",
       "      <th>ST_NAME</th>\n",
       "      <th>OWN_OCCUPIED</th>\n",
       "      <th>NUM_BEDROOMS</th>\n",
       "      <th>NUM_BATH</th>\n",
       "      <th>SQ_FT</th>\n",
       "    </tr>\n",
       "  </thead>\n",
       "  <tbody>\n",
       "    <tr>\n",
       "      <th>4</th>\n",
       "      <td>NaN</td>\n",
       "      <td>203.0</td>\n",
       "      <td>BERKELEY</td>\n",
       "      <td>Y</td>\n",
       "      <td>3</td>\n",
       "      <td>2</td>\n",
       "      <td>1600</td>\n",
       "    </tr>\n",
       "    <tr>\n",
       "      <th>5</th>\n",
       "      <td>100006000.0</td>\n",
       "      <td>207.0</td>\n",
       "      <td>BERKELEY</td>\n",
       "      <td>Y</td>\n",
       "      <td>NaN</td>\n",
       "      <td>1</td>\n",
       "      <td>800</td>\n",
       "    </tr>\n",
       "    <tr>\n",
       "      <th>6</th>\n",
       "      <td>100007000.0</td>\n",
       "      <td>NaN</td>\n",
       "      <td>WASHINGTON</td>\n",
       "      <td>NaN</td>\n",
       "      <td>2</td>\n",
       "      <td>HURLEY</td>\n",
       "      <td>950</td>\n",
       "    </tr>\n",
       "    <tr>\n",
       "      <th>7</th>\n",
       "      <td>100008000.0</td>\n",
       "      <td>213.0</td>\n",
       "      <td>TREMONT</td>\n",
       "      <td>Y</td>\n",
       "      <td>1</td>\n",
       "      <td>1</td>\n",
       "      <td>NaN</td>\n",
       "    </tr>\n",
       "    <tr>\n",
       "      <th>8</th>\n",
       "      <td>100009000.0</td>\n",
       "      <td>215.0</td>\n",
       "      <td>TREMONT</td>\n",
       "      <td>Y</td>\n",
       "      <td>na</td>\n",
       "      <td>2</td>\n",
       "      <td>1800</td>\n",
       "    </tr>\n",
       "  </tbody>\n",
       "</table>\n",
       "</div>"
      ],
      "text/plain": [
       "           PID  ST_NUM     ST_NAME OWN_OCCUPIED NUM_BEDROOMS NUM_BATH SQ_FT\n",
       "4          NaN   203.0    BERKELEY            Y            3        2  1600\n",
       "5  100006000.0   207.0    BERKELEY            Y          NaN        1   800\n",
       "6  100007000.0     NaN  WASHINGTON          NaN            2   HURLEY   950\n",
       "7  100008000.0   213.0     TREMONT            Y            1        1   NaN\n",
       "8  100009000.0   215.0     TREMONT            Y           na        2  1800"
      ]
     },
     "execution_count": 9,
     "metadata": {},
     "output_type": "execute_result"
    }
   ],
   "source": [
    "property_data.tail()"
   ]
  },
  {
   "cell_type": "code",
   "execution_count": 10,
   "metadata": {},
   "outputs": [
    {
     "data": {
      "text/html": [
       "<div>\n",
       "<style scoped>\n",
       "    .dataframe tbody tr th:only-of-type {\n",
       "        vertical-align: middle;\n",
       "    }\n",
       "\n",
       "    .dataframe tbody tr th {\n",
       "        vertical-align: top;\n",
       "    }\n",
       "\n",
       "    .dataframe thead th {\n",
       "        text-align: right;\n",
       "    }\n",
       "</style>\n",
       "<table border=\"1\" class=\"dataframe\">\n",
       "  <thead>\n",
       "    <tr style=\"text-align: right;\">\n",
       "      <th></th>\n",
       "      <th>PID</th>\n",
       "      <th>ST_NUM</th>\n",
       "    </tr>\n",
       "  </thead>\n",
       "  <tbody>\n",
       "    <tr>\n",
       "      <th>count</th>\n",
       "      <td>8.000000e+00</td>\n",
       "      <td>7.000000</td>\n",
       "    </tr>\n",
       "    <tr>\n",
       "      <th>mean</th>\n",
       "      <td>1.000050e+08</td>\n",
       "      <td>191.428571</td>\n",
       "    </tr>\n",
       "    <tr>\n",
       "      <th>std</th>\n",
       "      <td>2.927700e+03</td>\n",
       "      <td>39.080503</td>\n",
       "    </tr>\n",
       "    <tr>\n",
       "      <th>min</th>\n",
       "      <td>1.000010e+08</td>\n",
       "      <td>104.000000</td>\n",
       "    </tr>\n",
       "    <tr>\n",
       "      <th>25%</th>\n",
       "      <td>1.000028e+08</td>\n",
       "      <td>199.000000</td>\n",
       "    </tr>\n",
       "    <tr>\n",
       "      <th>50%</th>\n",
       "      <td>1.000050e+08</td>\n",
       "      <td>203.000000</td>\n",
       "    </tr>\n",
       "    <tr>\n",
       "      <th>75%</th>\n",
       "      <td>1.000072e+08</td>\n",
       "      <td>210.000000</td>\n",
       "    </tr>\n",
       "    <tr>\n",
       "      <th>max</th>\n",
       "      <td>1.000090e+08</td>\n",
       "      <td>215.000000</td>\n",
       "    </tr>\n",
       "  </tbody>\n",
       "</table>\n",
       "</div>"
      ],
      "text/plain": [
       "                PID      ST_NUM\n",
       "count  8.000000e+00    7.000000\n",
       "mean   1.000050e+08  191.428571\n",
       "std    2.927700e+03   39.080503\n",
       "min    1.000010e+08  104.000000\n",
       "25%    1.000028e+08  199.000000\n",
       "50%    1.000050e+08  203.000000\n",
       "75%    1.000072e+08  210.000000\n",
       "max    1.000090e+08  215.000000"
      ]
     },
     "execution_count": 10,
     "metadata": {},
     "output_type": "execute_result"
    }
   ],
   "source": [
    "property_data.describe()"
   ]
  },
  {
   "cell_type": "code",
   "execution_count": 14,
   "metadata": {},
   "outputs": [
    {
     "data": {
      "image/png": "[encoded data removed]",
      "text/plain": [
       "<Figure size 432x288 with 1 Axes>"
      ]
     },
     "metadata": {
      "needs_background": "light"
     },
     "output_type": "display_data"
    }
   ],
   "source": [
    "\n",
    "x = np.linspace(0, 10, 200)\n",
    "plt.plot(x, x, label='linear')\n",
    "plt.legend()\n",
    "plt.show()"
   ]
  },
  {
   "cell_type": "code",
   "execution_count": 15,
   "metadata": {},
   "outputs": [
    {
     "data": {
      "image/png": "[encoded data removed]",
      "text/plain": [
       "<Figure size 432x288 with 1 Axes>"
      ]
     },
     "metadata": {},
     "output_type": "display_data"
    }
   ],
   "source": [
    "%matplotlib inline\n",
    "plt.style.use('seaborn-whitegrid')\n",
    "\n",
    "x = np.linspace(0, 10, 20)\n",
    "y = np.sin(x)\n",
    "\n",
    "plt.plot(x, y, 'o', color='blue');"
   ]
  },
  {
   "cell_type": "code",
   "execution_count": 67,
   "metadata": {},
   "outputs": [
    {
     "data": {
      "image/png": "[encoded data removed]",
      "text/plain": [
       "<Figure size 720x504 with 1 Axes>"
      ]
     },
     "metadata": {},
     "output_type": "display_data"
    }
   ],
   "source": [
    "\n",
    "ST_NAME = ['BERKELEY', 'WASHINGTON', 'TREMONT', \n",
    "        'PUTNAM','LEXINGTON' ] \n",
    "  \n",
    "ST_NUM= [201, 0, 215, 104, 197, ] \n",
    "\n",
    "fig = plt.figure(figsize =(10, 7)) \n",
    "plt.pie(ST_NUM, labels = ST_NAME) \n",
    "plt.show() "
   ]
  },
  {
   "cell_type": "code",
   "execution_count": 93,
   "metadata": {},
   "outputs": [],
   "source": [
    "Mobile_Banking=pd.read_excel(r\"C:\\\\Users\\\\Gloria\\desktop\\DSEA bootcamp lectures\\Mobile Banking.xlsx\")"
   ]
  },
  {
   "cell_type": "code",
   "execution_count": 64,
   "metadata": {},
   "outputs": [
    {
     "data": {
      "text/html": [
       "<div>\n",
       "<style scoped>\n",
       "    .dataframe tbody tr th:only-of-type {\n",
       "        vertical-align: middle;\n",
       "    }\n",
       "\n",
       "    .dataframe tbody tr th {\n",
       "        vertical-align: top;\n",
       "    }\n",
       "\n",
       "    .dataframe thead th {\n",
       "        text-align: right;\n",
       "    }\n",
       "</style>\n",
       "<table border=\"1\" class=\"dataframe\">\n",
       "  <thead>\n",
       "    <tr style=\"text-align: right;\">\n",
       "      <th></th>\n",
       "      <th>Number</th>\n",
       "      <th>Gender</th>\n",
       "      <th>Age Range</th>\n",
       "      <th>Have Bak Account</th>\n",
       "      <th>Bank account connected to MB</th>\n",
       "      <th>use</th>\n",
       "      <th>Importance</th>\n",
       "      <th>Benefit</th>\n",
       "      <th>Bank Visit</th>\n",
       "      <th>MbSafety</th>\n",
       "      <th>Influence</th>\n",
       "      <th>Satisfaction</th>\n",
       "    </tr>\n",
       "  </thead>\n",
       "  <tbody>\n",
       "    <tr>\n",
       "      <th>0</th>\n",
       "      <td>1</td>\n",
       "      <td>Male</td>\n",
       "      <td>21-30</td>\n",
       "      <td>Yes</td>\n",
       "      <td>Current Account</td>\n",
       "      <td>Airtime Purchase</td>\n",
       "      <td>Very</td>\n",
       "      <td>CostCharges</td>\n",
       "      <td>FewTimesAyear</td>\n",
       "      <td>Somewhat</td>\n",
       "      <td>TimeSaving</td>\n",
       "      <td>HighlySatisfactory</td>\n",
       "    </tr>\n",
       "    <tr>\n",
       "      <th>1</th>\n",
       "      <td>2</td>\n",
       "      <td>Female</td>\n",
       "      <td>21-30</td>\n",
       "      <td>Yes</td>\n",
       "      <td>Current Account</td>\n",
       "      <td>Money Transfer</td>\n",
       "      <td>Very</td>\n",
       "      <td>GoodService</td>\n",
       "      <td>FewTimesAyear</td>\n",
       "      <td>Somewhat</td>\n",
       "      <td>TimeSaving</td>\n",
       "      <td>HighlySatisfactory</td>\n",
       "    </tr>\n",
       "    <tr>\n",
       "      <th>2</th>\n",
       "      <td>3</td>\n",
       "      <td>Female</td>\n",
       "      <td>21-30</td>\n",
       "      <td>Yes</td>\n",
       "      <td>Current Account</td>\n",
       "      <td>Making Payments</td>\n",
       "      <td>Very</td>\n",
       "      <td>CostCharges</td>\n",
       "      <td>FewTimesAyear</td>\n",
       "      <td>Very</td>\n",
       "      <td>TimeSaving</td>\n",
       "      <td>HighlySatisfactory</td>\n",
       "    </tr>\n",
       "    <tr>\n",
       "      <th>3</th>\n",
       "      <td>4</td>\n",
       "      <td>Female</td>\n",
       "      <td>21-30</td>\n",
       "      <td>Yes</td>\n",
       "      <td>Current Account</td>\n",
       "      <td>Airtime Purchase</td>\n",
       "      <td>NaN</td>\n",
       "      <td>GoodService</td>\n",
       "      <td>FewTimesAyear</td>\n",
       "      <td>Somewhat</td>\n",
       "      <td>TimeSaving</td>\n",
       "      <td>Satisfactory</td>\n",
       "    </tr>\n",
       "    <tr>\n",
       "      <th>4</th>\n",
       "      <td>5</td>\n",
       "      <td>Female</td>\n",
       "      <td>21-30</td>\n",
       "      <td>Yes</td>\n",
       "      <td>Current Account</td>\n",
       "      <td>Making Payments</td>\n",
       "      <td>Very</td>\n",
       "      <td>CostCharges</td>\n",
       "      <td>FewTimesAyear</td>\n",
       "      <td>Very</td>\n",
       "      <td>TimeSaving</td>\n",
       "      <td>Average</td>\n",
       "    </tr>\n",
       "  </tbody>\n",
       "</table>\n",
       "</div>"
      ],
      "text/plain": [
       "   Number  Gender Age Range Have Bak Account Bank account connected to MB  \\\n",
       "0       1    Male     21-30              Yes              Current Account   \n",
       "1       2  Female     21-30              Yes              Current Account   \n",
       "2       3  Female     21-30              Yes              Current Account   \n",
       "3       4  Female     21-30              Yes              Current Account   \n",
       "4       5  Female     21-30              Yes              Current Account   \n",
       "\n",
       "                use Importance      Benefit     Bank Visit  MbSafety  \\\n",
       "0  Airtime Purchase       Very  CostCharges  FewTimesAyear  Somewhat   \n",
       "1    Money Transfer       Very  GoodService  FewTimesAyear  Somewhat   \n",
       "2   Making Payments       Very  CostCharges  FewTimesAyear      Very   \n",
       "3  Airtime Purchase        NaN  GoodService  FewTimesAyear  Somewhat   \n",
       "4   Making Payments       Very  CostCharges  FewTimesAyear      Very   \n",
       "\n",
       "    Influence        Satisfaction  \n",
       "0  TimeSaving  HighlySatisfactory  \n",
       "1  TimeSaving  HighlySatisfactory  \n",
       "2  TimeSaving  HighlySatisfactory  \n",
       "3  TimeSaving        Satisfactory  \n",
       "4  TimeSaving             Average  "
      ]
     },
     "execution_count": 64,
     "metadata": {},
     "output_type": "execute_result"
    }
   ],
   "source": [
    "Mobile_Banking.head()"
   ]
  },
  {
   "cell_type": "code",
   "execution_count": 94,
   "metadata": {},
   "outputs": [
    {
     "data": {
      "text/html": [
       "<div>\n",
       "<style scoped>\n",
       "    .dataframe tbody tr th:only-of-type {\n",
       "        vertical-align: middle;\n",
       "    }\n",
       "\n",
       "    .dataframe tbody tr th {\n",
       "        vertical-align: top;\n",
       "    }\n",
       "\n",
       "    .dataframe thead th {\n",
       "        text-align: right;\n",
       "    }\n",
       "</style>\n",
       "<table border=\"1\" class=\"dataframe\">\n",
       "  <thead>\n",
       "    <tr style=\"text-align: right;\">\n",
       "      <th></th>\n",
       "      <th>Number</th>\n",
       "      <th>Gender</th>\n",
       "      <th>Age Range</th>\n",
       "      <th>Have Bak Account</th>\n",
       "      <th>Bank account connected to MB</th>\n",
       "      <th>use</th>\n",
       "      <th>Importance</th>\n",
       "      <th>Benefit</th>\n",
       "      <th>Bank Visit</th>\n",
       "      <th>MbSafety</th>\n",
       "      <th>Influence</th>\n",
       "      <th>Satisfaction</th>\n",
       "    </tr>\n",
       "  </thead>\n",
       "  <tbody>\n",
       "    <tr>\n",
       "      <th>38</th>\n",
       "      <td>40</td>\n",
       "      <td>Male</td>\n",
       "      <td>21-30</td>\n",
       "      <td>Yes</td>\n",
       "      <td>Current Account</td>\n",
       "      <td>Cash Withdraw</td>\n",
       "      <td>Somewhat</td>\n",
       "      <td>GoodService</td>\n",
       "      <td>FewTimesAyear</td>\n",
       "      <td>Very</td>\n",
       "      <td>TimeSaving</td>\n",
       "      <td>Satisfactory</td>\n",
       "    </tr>\n",
       "    <tr>\n",
       "      <th>39</th>\n",
       "      <td>43</td>\n",
       "      <td>Female</td>\n",
       "      <td>21-30</td>\n",
       "      <td>Yes</td>\n",
       "      <td>Savings Account</td>\n",
       "      <td>Money Transfer</td>\n",
       "      <td>Very</td>\n",
       "      <td>GoodService</td>\n",
       "      <td>OnceMonth</td>\n",
       "      <td>Very</td>\n",
       "      <td>TimeSaving</td>\n",
       "      <td>HighlySatisfactory</td>\n",
       "    </tr>\n",
       "    <tr>\n",
       "      <th>40</th>\n",
       "      <td>45</td>\n",
       "      <td>Male</td>\n",
       "      <td>21-30</td>\n",
       "      <td>Yes</td>\n",
       "      <td>None</td>\n",
       "      <td>Money Transfer</td>\n",
       "      <td>Very</td>\n",
       "      <td>GoodService</td>\n",
       "      <td>FewTimesAyear</td>\n",
       "      <td>Somewhat</td>\n",
       "      <td>TimeSaving</td>\n",
       "      <td>Satisfactory</td>\n",
       "    </tr>\n",
       "    <tr>\n",
       "      <th>41</th>\n",
       "      <td>46</td>\n",
       "      <td>Female</td>\n",
       "      <td>31-40</td>\n",
       "      <td>Yes</td>\n",
       "      <td>Current Account</td>\n",
       "      <td>Making Payments</td>\n",
       "      <td>Very</td>\n",
       "      <td>CostCharges</td>\n",
       "      <td>FewTimesAyear</td>\n",
       "      <td>Very</td>\n",
       "      <td>CostSaving</td>\n",
       "      <td>Satisfactory</td>\n",
       "    </tr>\n",
       "    <tr>\n",
       "      <th>42</th>\n",
       "      <td>47</td>\n",
       "      <td>Male</td>\n",
       "      <td>21-30</td>\n",
       "      <td>Yes</td>\n",
       "      <td>Current Account</td>\n",
       "      <td>Cash Withdraw</td>\n",
       "      <td>Very</td>\n",
       "      <td>GoodService</td>\n",
       "      <td>FewTimesAyear</td>\n",
       "      <td>Somewhat</td>\n",
       "      <td>TimeSaving</td>\n",
       "      <td>Satisfactory</td>\n",
       "    </tr>\n",
       "  </tbody>\n",
       "</table>\n",
       "</div>"
      ],
      "text/plain": [
       "    Number  Gender Age Range Have Bak Account Bank account connected to MB  \\\n",
       "38      40    Male     21-30              Yes              Current Account   \n",
       "39      43  Female     21-30              Yes              Savings Account   \n",
       "40      45    Male     21-30              Yes                         None   \n",
       "41      46  Female     31-40              Yes              Current Account   \n",
       "42      47    Male     21-30              Yes              Current Account   \n",
       "\n",
       "                use Importance      Benefit     Bank Visit  MbSafety  \\\n",
       "38    Cash Withdraw   Somewhat  GoodService  FewTimesAyear      Very   \n",
       "39   Money Transfer       Very  GoodService      OnceMonth      Very   \n",
       "40   Money Transfer       Very  GoodService  FewTimesAyear  Somewhat   \n",
       "41  Making Payments       Very  CostCharges  FewTimesAyear      Very   \n",
       "42    Cash Withdraw       Very  GoodService  FewTimesAyear  Somewhat   \n",
       "\n",
       "     Influence        Satisfaction  \n",
       "38  TimeSaving        Satisfactory  \n",
       "39  TimeSaving  HighlySatisfactory  \n",
       "40  TimeSaving        Satisfactory  \n",
       "41  CostSaving        Satisfactory  \n",
       "42  TimeSaving        Satisfactory  "
      ]
     },
     "execution_count": 94,
     "metadata": {},
     "output_type": "execute_result"
    }
   ],
   "source": [
    "Mobile_Banking.tail()"
   ]
  },
  {
   "cell_type": "code",
   "execution_count": 95,
   "metadata": {},
   "outputs": [
    {
     "data": {
      "text/html": [
       "<div>\n",
       "<style scoped>\n",
       "    .dataframe tbody tr th:only-of-type {\n",
       "        vertical-align: middle;\n",
       "    }\n",
       "\n",
       "    .dataframe tbody tr th {\n",
       "        vertical-align: top;\n",
       "    }\n",
       "\n",
       "    .dataframe thead th {\n",
       "        text-align: right;\n",
       "    }\n",
       "</style>\n",
       "<table border=\"1\" class=\"dataframe\">\n",
       "  <thead>\n",
       "    <tr style=\"text-align: right;\">\n",
       "      <th></th>\n",
       "      <th>Number</th>\n",
       "    </tr>\n",
       "  </thead>\n",
       "  <tbody>\n",
       "    <tr>\n",
       "      <th>count</th>\n",
       "      <td>43.000000</td>\n",
       "    </tr>\n",
       "    <tr>\n",
       "      <th>mean</th>\n",
       "      <td>22.674419</td>\n",
       "    </tr>\n",
       "    <tr>\n",
       "      <th>std</th>\n",
       "      <td>13.412363</td>\n",
       "    </tr>\n",
       "    <tr>\n",
       "      <th>min</th>\n",
       "      <td>1.000000</td>\n",
       "    </tr>\n",
       "    <tr>\n",
       "      <th>25%</th>\n",
       "      <td>11.500000</td>\n",
       "    </tr>\n",
       "    <tr>\n",
       "      <th>50%</th>\n",
       "      <td>22.000000</td>\n",
       "    </tr>\n",
       "    <tr>\n",
       "      <th>75%</th>\n",
       "      <td>33.500000</td>\n",
       "    </tr>\n",
       "    <tr>\n",
       "      <th>max</th>\n",
       "      <td>47.000000</td>\n",
       "    </tr>\n",
       "  </tbody>\n",
       "</table>\n",
       "</div>"
      ],
      "text/plain": [
       "          Number\n",
       "count  43.000000\n",
       "mean   22.674419\n",
       "std    13.412363\n",
       "min     1.000000\n",
       "25%    11.500000\n",
       "50%    22.000000\n",
       "75%    33.500000\n",
       "max    47.000000"
      ]
     },
     "execution_count": 95,
     "metadata": {},
     "output_type": "execute_result"
    }
   ],
   "source": [
    "Mobile_Banking.describe()"
   ]
  },
  {
   "cell_type": "code",
   "execution_count": 74,
   "metadata": {},
   "outputs": [
    {
     "data": {
      "image/png": "[encoded data removed]",
      "text/plain": [
       "<Figure size 432x288 with 1 Axes>"
      ]
     },
     "metadata": {},
     "output_type": "display_data"
    }
   ],
   "source": [
    "import pandas as pd\n",
    "\n",
    "size, scale = 47, 2\n",
    "Mobile_Banking= pd.Series(np.random.gamma(scale, size=size) ** 1.5)\n",
    "\n",
    "Mobile_Banking.plot.hist(grid=True, bins=20, rwidth=0.9,\n",
    "                   color='#607c8e')\n",
    "plt.title('Mobile Banking account  for 47 Number')\n",
    "plt.xlabel('Accounts')\n",
    "plt.ylabel('Number')\n",
    "plt.grid(axis='y', alpha=0.75)"
   ]
  },
  {
   "cell_type": "code",
   "execution_count": 92,
   "metadata": {},
   "outputs": [
    {
     "data": {
      "image/png": "[encoded data removed]",
      "text/plain": [
       "<Figure size 432x288 with 1 Axes>"
      ]
     },
     "metadata": {},
     "output_type": "display_data"
    }
   ],
   "source": [
    "%matplotlib inline\n",
    "plt.style.use('seaborn-whitegrid')\n",
    "\n",
    "x = np.linspace(0, 2, 10)\n",
    "y = np.sin(x)\n",
    "\n",
    "plt.plot(x, y, 'o', color='Green');"
   ]
  },
  {
   "cell_type": "code",
   "execution_count": 90,
   "metadata": {},
   "outputs": [
    {
     "data": {
      "image/png": "[encoded data removed]",
      "text/plain": [
       "<Figure size 720x504 with 1 Axes>"
      ]
     },
     "metadata": {},
     "output_type": "display_data"
    }
   ],
   "source": [
    "Satisfaction = ['Highsatisfactory', 'Average', 'Satisfactory', \n",
    "         ] \n",
    "  \n",
    "use= [1,2,3, ] \n",
    "\n",
    "fig = plt.figure(figsize =(10, 7)) \n",
    "plt.pie(use, labels = Satisfaction) \n",
    "plt.show()"
   ]
  }
 ],
 "metadata": {
  "kernelspec": {
   "display_name": "Python 3",
   "language": "python",
   "name": "python3"
  },
  "language_info": {
   "codemirror_mode": {
    "name": "ipython",
    "version": 3
   },
   "file_extension": ".py",
   "mimetype": "text/x-python",
   "name": "python",
   "nbconvert_exporter": "python",
   "pygments_lexer": "ipython3",
   "version": "3.8.3"
  }
 },
 "nbformat": 4,
 "nbformat_minor": 4
}
