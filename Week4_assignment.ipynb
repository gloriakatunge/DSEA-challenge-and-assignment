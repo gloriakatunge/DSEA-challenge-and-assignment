{
  "nbformat": 4,
  "nbformat_minor": 0,
  "metadata": {
    "colab": {
      "provenance": [],
      "authorship_tag": "ABX9TyMR0o5UVm50FJq+BbPJaMy2",
      "include_colab_link": true
    },
    "kernelspec": {
      "name": "python3",
      "display_name": "Python 3"
    },
    "language_info": {
      "name": "python"
    }
  },
  "cells": [
    {
      "cell_type": "markdown",
      "metadata": {
        "id": "view-in-github",
        "colab_type": "text"
      },
      "source": [
        "<a href=\"https://colab.research.google.com/github/gloriakatunge/DSEA-challenge-and-assignment/blob/master/Week4_assignment.ipynb\" target=\"_parent\"><img src=\"https://colab.research.google.com/assets/colab-badge.svg\" alt=\"Open In Colab\"/></a>"
      ]
    },
    {
      "cell_type": "code",
      "execution_count": 1,
      "metadata": {
        "colab": {
          "base_uri": "https://localhost:8080/"
        },
        "id": "0iPOE6lOKPui",
        "outputId": "878f48b9-04b8-4da4-8fce-c1abb407acf6"
      },
      "outputs": [
        {
          "output_type": "stream",
          "name": "stdout",
          "text": [
            "Hello, my name is Gloria Maithya . I am 30 years old and my gender is Female.\n"
          ]
        }
      ],
      "source": [
        "class Person:\n",
        "    def __init__(self, name, age, gender):\n",
        "        self.name = name\n",
        "        self.age = age\n",
        "        self.gender = gender\n",
        "\n",
        "    def introduce(self):\n",
        "        print(f\"Hello, my name is {self.name}. I am {self.age} years old and my gender is {self.gender}.\")\n",
        "\n",
        "# Creating an instance of the Person class\n",
        "person = Person(\"Gloria Maithya \", 30, \"Female\")\n",
        "\n",
        "# Calling the introduce method to display the person's information\n",
        "person.introduce()\n"
      ]
    }
  ]
}